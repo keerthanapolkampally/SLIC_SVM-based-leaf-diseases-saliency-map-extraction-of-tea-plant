{
 "cells": [
  {
   "cell_type": "code",
   "execution_count": 18,
   "metadata": {},
   "outputs": [],
   "source": [
    "import math\n",
    "from skimage import io, color\n",
    "from skimage.transform import resize\n",
    "import numpy as np"
   ]
  },
  {
   "cell_type": "code",
   "execution_count": 19,
   "metadata": {},
   "outputs": [],
   "source": [
    "# function which returns an object of class SuperPixel\n",
    "def make_superPixel(h, w,img):\n",
    "    return SuperPixels(h, w,img[h,w][0],img[h,w][1],img[h,w][2])"
   ]
  },
  {
   "cell_type": "code",
   "execution_count": 20,
   "metadata": {},
   "outputs": [],
   "source": [
    "# To define the initial cluster centers distanced at S\n",
    "def initial_cluster_center(S,img,img_h,img_w,clusters):\n",
    "    h = S // 2\n",
    "    w = S // 2\n",
    "    while h < img_h:\n",
    "        while w < img_w:\n",
    "            clusters.append(make_superPixel(h, w,img))\n",
    "            w += S\n",
    "        w = S // 2\n",
    "        h += S\n",
    "    return clusters"
   ]
  },
  {
   "cell_type": "code",
   "execution_count": 21,
   "metadata": {},
   "outputs": [],
   "source": [
    "# function to calculate gradient at each pixel \n",
    "def calc_gradient(h, w,img,img_w,img_h):\n",
    "    if w + 1 >= img_w:\n",
    "        w = img_w - 2\n",
    "    if h + 1 >= img_h:\n",
    "        h = img_h - 2\n",
    "    grad = img[w + 1, h + 1][0] - img[w, h][0] + img[w + 1, h + 1][1] - img[w, h][1] + img[w + 1, h + 1][2] - img[w, h][2]\n",
    "    return grad"
   ]
  },
  {
   "cell_type": "code",
   "execution_count": 22,
   "metadata": {},
   "outputs": [],
   "source": [
    "# function which reassign the cluster center to the pixel having the lowest gradient\n",
    "def reassign_cluster_center_acc_to_grad(clusters,img):\n",
    "    for c in clusters:\n",
    "        cluster_gradient = calc_gradient(c.h, c.w,img,img_w,img_h)\n",
    "        for dh in range(-1, 2):\n",
    "            for dw in range(-1, 2):\n",
    "                H = c.h + dh\n",
    "                W = c.w + dw\n",
    "                new_gradient = calc_gradient(H,W, img,img_w,img_h)\n",
    "                if new_gradient < cluster_gradient:\n",
    "                    c.update(H, W,img[H,W][0], img[H,W][1],img[H,W][2])\n",
    "                    c_gradient = new_gradient"
   ]
  },
  {
   "cell_type": "code",
   "execution_count": 23,
   "metadata": {},
   "outputs": [],
   "source": [
    "'''\n",
    "function to assign pixels to the nearest cluster using the Euclidean distance involving both color and spatial\n",
    "proximity.\n",
    "'''\n",
    "def assign_pixels_to_cluster(clusters,S,img,img_h,img_w,tag,dis):\n",
    "    for c in clusters:\n",
    "        for h in range(c.h - 2 * S, c.h + 2 * S):\n",
    "            if h < 0 or h >= img_h: continue\n",
    "            for w in range(c.w - 2 * S, c.w + 2 * S):\n",
    "                if w < 0 or w >= img_w: continue\n",
    "                l, a, b = img[h,w]\n",
    "                Dc = math.sqrt(math.pow(l - c.l, 2) + math.pow(a - c.a, 2) + math.pow(b - c.b, 2))\n",
    "                Ds = math.sqrt(math.pow(h - c.h, 2) + math.pow(w - c.w, 2))\n",
    "                D = math.sqrt(math.pow(Dc / m, 2) + math.pow(Ds /S, 2))\n",
    "                if D < dis[h,w]:\n",
    "                    if (h, w) not in tag:\n",
    "                        tag[(h, w)] = c\n",
    "                        c.pixels.append((h, w))\n",
    "                    else:\n",
    "                        tag[(h, w)].pixels.remove((h, w))\n",
    "                        tag[(h, w)] = c\n",
    "                        c.pixels.append((h, w))\n",
    "                    dis[h, w] = D"
   ]
  },
  {
   "cell_type": "code",
   "execution_count": 24,
   "metadata": {},
   "outputs": [],
   "source": [
    "# function to replace the cluster center with the mean of the pixels contained in the cluster\n",
    "def update_cluster_mean(clusters):\n",
    "    for c in clusters:\n",
    "        sum_h = sum_w = number = 0\n",
    "        #print(\"c.pixels\",c.pixels)\n",
    "        for p in c.pixels:\n",
    "            sum_h += p[0]\n",
    "            sum_w += p[1]\n",
    "            number += 1\n",
    "            H = sum_h // number\n",
    "            W = sum_w // number\n",
    "            c.update(H, W,img[H, W][0], img[H, W][1], img[H, W][2])"
   ]
  },
  {
   "cell_type": "code",
   "execution_count": 25,
   "metadata": {},
   "outputs": [],
   "source": [
    "\n",
    "# replace the color of each pixel in a cluster by the color of the cluster's center\n",
    "def avg_color_cluster(img,name,clusters):\n",
    "    image = np.copy(img)\n",
    "    for c in clusters:\n",
    "        for p in c.pixels:\n",
    "            image[p[0],p[1]][0] = c.l\n",
    "            image[p[0],p[1]][1] = c.a\n",
    "            image[p[0],p[1]][2] = c.b\n",
    "        # To change the color of cluster center to Black\n",
    "        image[c.h, c.w][0] = 0\n",
    "        image[c.h, c.w][1] = 0\n",
    "        image[c.h, c.w][2] = 0\n",
    "    lab2rgb(name, image)"
   ]
  },
  {
   "cell_type": "code",
   "execution_count": 26,
   "metadata": {},
   "outputs": [],
   "source": [
    "# function for the Simple Linear Iterative Clustering\n",
    "def slic(S,img,img_h,img_w,clusters,tag,dis):\n",
    "    clusters = initial_cluster_center(S,img,img_h,img_w,clusters)\n",
    "    reassign_cluster_center_acc_to_grad(clusters,img)\n",
    "    for i in range(10): # usually the algortihm converges within 10 iterations\n",
    "        assign_pixels_to_cluster(clusters,S,img,img_h,img_w,tag,dis)\n",
    "        update_cluster_mean(clusters)\n",
    "        if i == 9 : # to print the output after 10 iterations\n",
    "            name = 'out_m{m}_k{k}.png'.format(loop=i, m=m, k=k)\n",
    "            avg_color_cluster(img,name, clusters)\n",
    "    return clusters"
   ]
  },
  {
   "cell_type": "code",
   "execution_count": 27,
   "metadata": {},
   "outputs": [],
   "source": [
    "# function to convert LAB images back to RGB and save it\n",
    "def lab2rgb(path, lab_arr):\n",
    "    rgb_arr = color.lab2rgb(lab_arr)\n",
    "    io.imsave(path, rgb_arr)"
   ]
  },
  {
   "cell_type": "code",
   "execution_count": 28,
   "metadata": {},
   "outputs": [],
   "source": [
    "# A class to initialize the super pixels, of the form - [h,y,l,a,b].\n",
    "class SuperPixels(object):\n",
    "\n",
    "    def __init__(self, h, w, l=0, a=0, b=0):\n",
    "        self.update(h, w, l, a, b)\n",
    "        self.pixels = []\n",
    "\n",
    "    def update(self, h, w, l, a, b):\n",
    "        self.h = h\n",
    "        self.w = w\n",
    "        self.l = l\n",
    "        self.a = a\n",
    "        self.b = b"
   ]
  },
  {
   "cell_type": "code",
   "execution_count": 29,
   "metadata": {},
   "outputs": [],
   "source": [
    "# import cv2\n",
    "# import glob\n",
    "\n",
    "# images = [cv2.imread(file) for file in glob.glob('data/train data/Tea leaf blight/*.jpg')]"
   ]
  },
  {
   "cell_type": "code",
   "execution_count": 30,
   "metadata": {},
   "outputs": [
    {
     "name": "stdout",
     "output_type": "stream",
     "text": [
      "(236, 156, 3)\n"
     ]
    },
    {
     "name": "stderr",
     "output_type": "stream",
     "text": [
      "/home/polkampally/anaconda3/lib/python3.6/site-packages/skimage/transform/_warps.py:84: UserWarning: The default mode, 'constant', will be changed to 'reflect' in skimage 0.15.\n",
      "  warn(\"The default mode, 'constant', will be changed to 'reflect' in \"\n"
     ]
    },
    {
     "name": "stdout",
     "output_type": "stream",
     "text": [
      "(400, 400, 3)\n"
     ]
    }
   ],
   "source": [
    "# for i in images:\n",
    "rgb = io.imread(\"1.jpg\",plugin='matplotlib')\n",
    "print(rgb.shape)\n",
    "\n",
    "# input images are resized to (400 x 400) for processing\n",
    "img = resize(rgb, (400,400))\n",
    "print(img.shape)\n",
    "\n",
    "# convert RGB to LAB\n",
    "img = color.rgb2lab(img)\n",
    "\n",
    "k = 100   # Number of Super pixels\n",
    "m = 20    # Constant for normalizing the color proximity, range of m = [1,40]\n",
    "\n",
    "img_h = img.shape[0] # Image Height\n",
    "img_w = img.shape[1] # Image Width\n",
    "\n",
    "N = img_h * img_w  # Total number of pixels in the image\n",
    "S = int(math.sqrt(N /k)) # average size of each superpixel\n",
    "\n",
    "clusters = []\n",
    "tag = {}\n",
    "# initialize the distance between pixels and cluster center as infinity\n",
    "dis = np.full((img_h, img_w), np.inf)"
   ]
  },
  {
   "cell_type": "code",
   "execution_count": 31,
   "metadata": {},
   "outputs": [
    {
     "name": "stderr",
     "output_type": "stream",
     "text": [
      "/home/polkampally/anaconda3/lib/python3.6/site-packages/skimage/util/dtype.py:122: UserWarning: Possible precision loss when converting from float64 to uint8\n",
      "  .format(dtypeobj_in, dtypeobj_out))\n"
     ]
    }
   ],
   "source": [
    "cluster = slic(S,img,img_h,img_w,clusters,tag,dis)"
   ]
  },
  {
   "cell_type": "code",
   "execution_count": null,
   "metadata": {},
   "outputs": [],
   "source": []
  }
 ],
 "metadata": {
  "kernelspec": {
   "display_name": "Python 3",
   "language": "python",
   "name": "python3"
  },
  "language_info": {
   "codemirror_mode": {
    "name": "ipython",
    "version": 3
   },
   "file_extension": ".py",
   "mimetype": "text/x-python",
   "name": "python",
   "nbconvert_exporter": "python",
   "pygments_lexer": "ipython3",
   "version": "3.6.5"
  }
 },
 "nbformat": 4,
 "nbformat_minor": 2
}
